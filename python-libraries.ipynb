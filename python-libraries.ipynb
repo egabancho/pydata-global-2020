{
 "cells": [
  {
   "cell_type": "code",
   "execution_count": 1,
   "metadata": {},
   "outputs": [],
   "source": [
    "import datetime"
   ]
  },
  {
   "cell_type": "markdown",
   "metadata": {},
   "source": [
    "## SQLAlchemy\n",
    "\n",
    "This examples are adapted from SQLAlchemy's documentation"
   ]
  },
  {
   "cell_type": "code",
   "execution_count": 2,
   "metadata": {},
   "outputs": [],
   "source": [
    "import sqlite3\n",
    "\n",
    "from sqlalchemy.ext.declarative import declarative_base\n",
    "from sqlalchemy import Column, Integer, String, create_engine\n",
    "from sqlalchemy.orm import scoped_session, sessionmaker\n",
    "\n",
    "Base = declarative_base()\n",
    "DBSession = scoped_session(sessionmaker())\n",
    "\n",
    "SIZE = 1_000_000\n",
    "\n",
    "class Customer(Base):\n",
    "    __tablename__ = \"customer\"\n",
    "    id = Column(Integer, primary_key=True)\n",
    "    name = Column(String(255))\n",
    "\n",
    "\n",
    "def init_sqlalchemy(dbname='sqlite:///sqlalchemy.db'):\n",
    "    engine = create_engine(dbname, echo=False)\n",
    "    DBSession.remove()\n",
    "    DBSession.configure(\n",
    "        bind=engine,\n",
    "        autoflush=False,\n",
    "        expire_on_commit=False,\n",
    "    )\n",
    "    Base.metadata.drop_all(engine)\n",
    "    Base.metadata.create_all(engine)\n",
    "    return engine\n",
    "\n",
    "def init_sqlite3(dbname):\n",
    "    conn = sqlite3.connect(dbname)\n",
    "    c = conn.cursor()\n",
    "    c.execute(\"DROP TABLE IF EXISTS customer\")\n",
    "    c.execute(\n",
    "        \"CREATE TABLE customer (id INTEGER NOT NULL, \"\n",
    "        \"name VARCHAR(255), PRIMARY KEY(id))\"\n",
    "    )\n",
    "    conn.commit()\n",
    "    return conn"
   ]
  },
  {
   "cell_type": "code",
   "execution_count": 3,
   "metadata": {},
   "outputs": [
    {
     "name": "stdout",
     "output_type": "stream",
     "text": [
      "Done SQLAlchemy ORM, in 42.58 sec\n"
     ]
    }
   ],
   "source": [
    "_ = init_sqlalchemy()\n",
    "start_time = datetime.datetime.now()\n",
    "\n",
    "for i in range(SIZE):\n",
    "    customer = Customer()\n",
    "    customer.name = 'NAME ' + str(i)\n",
    "    customer.id = i + 1\n",
    "    DBSession.add(customer)\n",
    "    if i % 1000 == 0:\n",
    "        DBSession.flush()\n",
    "DBSession.commit()\n",
    "\n",
    "delta_time = datetime.datetime.now() - start_time\n",
    "print(f'Done SQLAlchemy ORM, in {delta_time.total_seconds():.2f} sec')"
   ]
  },
  {
   "cell_type": "code",
   "execution_count": 4,
   "metadata": {},
   "outputs": [
    {
     "name": "stdout",
     "output_type": "stream",
     "text": [
      "Done SQLAlchemy bulk insert, in 6.77 sec\n"
     ]
    }
   ],
   "source": [
    "_ = init_sqlalchemy()\n",
    "start_time = datetime.datetime.now()\n",
    "for chunk in range(0, SIZE, 10_000):\n",
    "    DBSession.bulk_insert_mappings(\n",
    "        Customer,\n",
    "        [\n",
    "            dict(name=\"NAME \" + str(i), id=i + 1)\n",
    "            for i in range(chunk, min(chunk + 10000, SIZE))\n",
    "        ],\n",
    "    )\n",
    "DBSession.commit()\n",
    "\n",
    "delta_time = datetime.datetime.now() - start_time\n",
    "print(\n",
    "    'Done SQLAlchemy bulk insert,'\n",
    "    f' in {delta_time.total_seconds():.2f} sec'\n",
    ")"
   ]
  },
  {
   "cell_type": "code",
   "execution_count": 5,
   "metadata": {},
   "outputs": [
    {
     "name": "stdout",
     "output_type": "stream",
     "text": [
      "Done plain sqlite, in 1.76 sec\n"
     ]
    }
   ],
   "source": [
    "conn = init_sqlite3('sqlite3.db')\n",
    "c = conn.cursor()\n",
    "start_time = datetime.datetime.now()\n",
    "for i in range(SIZE):\n",
    "    row = ('NAME ' + str(i),)\n",
    "    c.execute(\"INSERT INTO customer (name) VALUES (?)\", row)\n",
    "conn.commit()\n",
    "\n",
    "delta_time = datetime.datetime.now() - start_time\n",
    "print(f'Done plain sqlite, in {delta_time.total_seconds():.2f} sec')"
   ]
  },
  {
   "cell_type": "code",
   "execution_count": 6,
   "metadata": {},
   "outputs": [],
   "source": [
    "# This part doesn't work with sqlite, you'll need something with better support for transactions\n",
    "#\n",
    "# from unsync import unsync\n",
    "#\n",
    "# def test_sqlalchemy_orm_bulk_insert_parallel():\n",
    "#     _ = init_sqlalchemy()\n",
    "\n",
    "#     @unsync\n",
    "#     def persist(objects):\n",
    "#         DBSession.bulk_insert_mappings(Customer, objects)\n",
    "#         DBSession.commit()\n",
    "\n",
    "#     start_time = datetime.datetime.now()\n",
    "#     tasks = []\n",
    "#     for chunk in range(0, SIZE, 10_000):\n",
    "#         tasks.append(\n",
    "#             persist(\n",
    "#                 [\n",
    "#                     dict(name=\"NAME \" + str(i), id=i + 1)\n",
    "#                     for i in range(chunk, min(chunk + 10000, SIZE))\n",
    "#                 ]\n",
    "#             )\n",
    "#         )\n",
    "#     # wait for persist to finish\n",
    "#     [t.result() for t in tasks]\n",
    "\n",
    "#     delta_time = datetime.datetime.now() - start_time\n",
    "#     print(\n",
    "#         'Done SQLAlchemy bulk insert in parallel,'\n",
    "#         f' in {delta_time.total_seconds():.2f} sec'\n",
    "#     )"
   ]
  },
  {
   "cell_type": "markdown",
   "metadata": {},
   "source": [
    "## Numba"
   ]
  },
  {
   "cell_type": "code",
   "execution_count": 7,
   "metadata": {},
   "outputs": [],
   "source": [
    "import math\n",
    "import numpy as np\n",
    "from numba import jit\n",
    "\n",
    "\n",
    "def distance(src, dst):\n",
    "    result = np.zeros_like(src)\n",
    "    for i in range(len(src)):\n",
    "        result[i] = math.sqrt(\n",
    "            (dst[i][0] - src[i][0]) ** 2 + (dst[i][1] - src[i][1]) ** 2\n",
    "        )\n",
    "    return result\n",
    "\n",
    "@jit(nopython=True)\n",
    "def jit_distance(src, dst):\n",
    "    result = np.zeros_like(src)\n",
    "    for i in range(len(src)):\n",
    "        result[i] = math.sqrt(\n",
    "            (dst[i][0] - src[i][0]) ** 2 + (dst[i][1] - src[i][1]) ** 2\n",
    "        )\n",
    "    return result"
   ]
  },
  {
   "cell_type": "code",
   "execution_count": 8,
   "metadata": {},
   "outputs": [
    {
     "name": "stdout",
     "output_type": "stream",
     "text": [
      "Done without numba in 2.57 sec\n"
     ]
    }
   ],
   "source": [
    "start_time = datetime.datetime.now()\n",
    "\n",
    "src = np.random.rand(1_000_000, 2)\n",
    "dst = np.random.rand(1_000_000, 2)\n",
    "\n",
    "process_data = distance(src, dst)\n",
    "\n",
    "delta_time = datetime.datetime.now() - start_time\n",
    "print(\n",
    "    'Done without numba'\n",
    "    f' in {delta_time.total_seconds():.2f} sec'\n",
    ")"
   ]
  },
  {
   "cell_type": "code",
   "execution_count": 9,
   "metadata": {},
   "outputs": [
    {
     "name": "stdout",
     "output_type": "stream",
     "text": [
      "Done with numba  in 0.40 sec\n"
     ]
    }
   ],
   "source": [
    "start_time = datetime.datetime.now()\n",
    "\n",
    "src = np.random.rand(1_000_000, 2)\n",
    "dst = np.random.rand(1_000_000, 2)\n",
    "\n",
    "process_data = jit_distance(src, dst)\n",
    "\n",
    "delta_time = datetime.datetime.now() - start_time\n",
    "print(\n",
    "    'Done with numba '\n",
    "    f' in {delta_time.total_seconds():.2f} sec'\n",
    ")"
   ]
  },
  {
   "cell_type": "code",
   "execution_count": null,
   "metadata": {},
   "outputs": [],
   "source": []
  }
 ],
 "metadata": {
  "kernelspec": {
   "display_name": "Python 3",
   "language": "python",
   "name": "python3"
  },
  "language_info": {
   "codemirror_mode": {
    "name": "ipython",
    "version": 3
   },
   "file_extension": ".py",
   "mimetype": "text/x-python",
   "name": "python",
   "nbconvert_exporter": "python",
   "pygments_lexer": "ipython3",
   "version": "3.8.1"
  }
 },
 "nbformat": 4,
 "nbformat_minor": 4
}
