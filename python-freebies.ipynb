{
 "cells": [
  {
   "cell_type": "code",
   "execution_count": 1,
   "metadata": {},
   "outputs": [],
   "source": [
    "import datetime\n",
    "import os\n",
    "import psutil\n",
    "\n",
    "\n",
    "def process_mem() -> int:\n",
    "    process = psutil.Process(os.getpid())\n",
    "    mb = process.memory_info().rss / 1024 / 1024 # in Mb\n",
    "    return mb"
   ]
  },
  {
   "cell_type": "markdown",
   "metadata": {},
   "source": [
    "## Duck typing and Ask For Forgiveness"
   ]
  },
  {
   "cell_type": "code",
   "execution_count": 2,
   "metadata": {},
   "outputs": [],
   "source": [
    "class A:\n",
    "    a = 'a'\n",
    "\n",
    "\n",
    "class B:\n",
    "    b = 'b'"
   ]
  },
  {
   "cell_type": "code",
   "execution_count": 3,
   "metadata": {},
   "outputs": [],
   "source": [
    "def do_something_with_a_if_a(obj):\n",
    "    if hasattr(obj, 'a'):\n",
    "        return obj.a\n",
    "    return None\n",
    "\n",
    "\n",
    "def do_something_with_a(obj):\n",
    "    try:\n",
    "        return obj.a\n",
    "    except AttributeError:\n",
    "        return None"
   ]
  },
  {
   "cell_type": "code",
   "execution_count": 4,
   "metadata": {},
   "outputs": [
    {
     "name": "stdout",
     "output_type": "stream",
     "text": [
      "Done mostly As asking, in 0.1782 sec\n",
      "Done mostly As w/o asking, in 0.1092 sec\n"
     ]
    }
   ],
   "source": [
    "mostly_a = [A() for _ in range(1_000_000)] + [B() for _ in range(10)]\n",
    "\n",
    "start_time = datetime.datetime.now()\n",
    "_ = [do_something_with_a_if_a(o) for o in mostly_a]\n",
    "delta_time = datetime.datetime.now() - start_time\n",
    "print(f'Done mostly As asking, in {delta_time.total_seconds():.4f} sec')\n",
    "\n",
    "start_time = datetime.datetime.now()\n",
    "_ = [do_something_with_a(o) for o in mostly_a]\n",
    "delta_time = datetime.datetime.now() - start_time\n",
    "print(\n",
    "    f'Done mostly As w/o asking, in {delta_time.total_seconds():.4f} sec'\n",
    ")"
   ]
  },
  {
   "cell_type": "code",
   "execution_count": 5,
   "metadata": {},
   "outputs": [
    {
     "name": "stdout",
     "output_type": "stream",
     "text": [
      "Done mostly Bs asking, in 0.1528 sec\n",
      "Done mostly Bs w/o asking, in 0.5158 sec\n"
     ]
    }
   ],
   "source": [
    "mostly_b = [A() for _ in range(10)] + [B() for _ in range(1_000_000)]\n",
    "\n",
    "start_time = datetime.datetime.now()\n",
    "_ = [do_something_with_a_if_a(o) for o in mostly_b]\n",
    "delta_time = datetime.datetime.now() - start_time\n",
    "print(f'Done mostly Bs asking, in {delta_time.total_seconds():.4f} sec')\n",
    "\n",
    "start_time = datetime.datetime.now()\n",
    "_ = [do_something_with_a(o) for o in mostly_b]\n",
    "delta_time = datetime.datetime.now() - start_time\n",
    "print(\n",
    "    f'Done mostly Bs w/o asking, in {delta_time.total_seconds():.4f} sec'\n",
    ")"
   ]
  },
  {
   "cell_type": "markdown",
   "metadata": {},
   "source": [
    "## Lists, Iterators and Generators"
   ]
  },
  {
   "cell_type": "code",
   "execution_count": 6,
   "metadata": {},
   "outputs": [],
   "source": [
    "import random\n",
    "from typing import Generator\n",
    "\n",
    "\n",
    "def extract(n=1_000_000) -> Generator[int, None, None]:\n",
    "    \"\"\"Dummy example return random integers between -1000 and 1000.\"\"\"\n",
    "    for i in range(n):\n",
    "        yield random.randint(-1000, 1000)\n",
    "\n",
    "\n",
    "def transform(value: int) -> str:\n",
    "    \"\"\"Fizz buzz.\"\"\"\n",
    "    if value % 3 == 0 and value % 5 == 0:\n",
    "        return 'fizzbuzz'\n",
    "    elif value % 3 == 0:\n",
    "        return 'fizz'\n",
    "    elif value % 5 == 0:\n",
    "        return 'buzz'\n",
    "    return str(value)\n"
   ]
  },
  {
   "cell_type": "markdown",
   "metadata": {},
   "source": [
    "### Lists"
   ]
  },
  {
   "cell_type": "code",
   "execution_count": 7,
   "metadata": {},
   "outputs": [
    {
     "name": "stdout",
     "output_type": "stream",
     "text": [
      "Done, memory usage: 67.88 MB, in 1.25 sec\n"
     ]
    }
   ],
   "source": [
    "start_mem = process_mem()\n",
    "start_time = datetime.datetime.now()\n",
    "\n",
    "data = list(extract())\n",
    "process_data = [transform(d) for d in data]\n",
    "\n",
    "delta_mem = process_mem() - start_mem\n",
    "delta_time = datetime.datetime.now() - start_time\n",
    "print(\n",
    "    'Done,'\n",
    "    f' memory usage: {delta_mem:,.2f} MB,'\n",
    "    f' in {delta_time.total_seconds():.2f} sec'\n",
    ")"
   ]
  },
  {
   "cell_type": "markdown",
   "metadata": {},
   "source": [
    "### Iterators and generators"
   ]
  },
  {
   "cell_type": "code",
   "execution_count": 8,
   "metadata": {},
   "outputs": [
    {
     "name": "stdout",
     "output_type": "stream",
     "text": [
      "Done, memory usage: 0.25 MB, in 1.40 sec\n"
     ]
    }
   ],
   "source": [
    "# Only one element from extract is in memory at a time\n",
    "# But all processed objects are\n",
    "start_mem = process_mem()\n",
    "start_time = datetime.datetime.now()\n",
    "\n",
    "process_data = [transform(d) for d in extract()]\n",
    "\n",
    "delta_mem = process_mem() - start_mem\n",
    "delta_time = datetime.datetime.now() - start_time\n",
    "print(\n",
    "    'Done,'\n",
    "    f' memory usage: {delta_mem:,.2f} MB,'\n",
    "    f' in {delta_time.total_seconds():.2f} sec'\n",
    ")"
   ]
  },
  {
   "cell_type": "markdown",
   "metadata": {},
   "source": [
    "### Generator expressions"
   ]
  },
  {
   "cell_type": "code",
   "execution_count": 9,
   "metadata": {},
   "outputs": [
    {
     "name": "stdout",
     "output_type": "stream",
     "text": [
      "Done, memory usage: -32.58 MB, in 0.02 sec\n"
     ]
    }
   ],
   "source": [
    "# Only one element at a time\n",
    "start_mem = process_mem()\n",
    "start_time = datetime.datetime.now()\n",
    "\n",
    "process_data = (transform(d) for d in extract())\n",
    "next(process_data)\n",
    "\n",
    "delta_mem = process_mem() - start_mem\n",
    "delta_time = datetime.datetime.now() - start_time\n",
    "print(\n",
    "    'Done,'\n",
    "    f' memory usage: {delta_mem:,.2f} MB,'\n",
    "    f' in {delta_time.total_seconds():.2f} sec'\n",
    ")"
   ]
  },
  {
   "cell_type": "markdown",
   "metadata": {},
   "source": [
    "Note that this is *cheating* because only one element was processed"
   ]
  },
  {
   "cell_type": "markdown",
   "metadata": {},
   "source": [
    "## Multiprocessing, Multithreading and AsyncIO\n",
    "\n",
    "We are gonna be using a libary called [unsync](https://github.com/alex-sherman/unsync), which simply removes some of the overhead and clears up the example. But the end result would be the same."
   ]
  },
  {
   "cell_type": "code",
   "execution_count": 10,
   "metadata": {},
   "outputs": [],
   "source": [
    "import time\n",
    "import asyncio\n",
    "from itertools import chain, islice\n",
    "\n",
    "from unsync import unsync"
   ]
  },
  {
   "cell_type": "code",
   "execution_count": 11,
   "metadata": {},
   "outputs": [],
   "source": [
    "@unsync\n",
    "async def transform_chunk(values):\n",
    "    await asyncio.sleep(len(values)*0.0001)  # Artificial I/O\n",
    "    return [transform(value) for value in values]\n",
    "\n",
    "def slow_transform(value):\n",
    "    time.sleep(0.0001)  # Artificial I/O\n",
    "    return transform(value)"
   ]
  },
  {
   "cell_type": "code",
   "execution_count": 12,
   "metadata": {},
   "outputs": [
    {
     "name": "stdout",
     "output_type": "stream",
     "text": [
      "Done single thread, in 134.18 sec\n"
     ]
    }
   ],
   "source": [
    "start_time = datetime.datetime.now()\n",
    "\n",
    "process_data = (slow_transform(d) for d in extract())\n",
    "_ = list(process_data)\n",
    "\n",
    "delta_time = datetime.datetime.now() - start_time\n",
    "print('Done single thread,' f' in {delta_time.total_seconds():.2f} sec')"
   ]
  },
  {
   "cell_type": "code",
   "execution_count": 13,
   "metadata": {},
   "outputs": [
    {
     "name": "stdout",
     "output_type": "stream",
     "text": [
      "Done async, in 2.06 sec\n"
     ]
    }
   ],
   "source": [
    "CHUNK = 10000\n",
    "\n",
    "\n",
    "start_time = datetime.datetime.now()\n",
    "tasks = []\n",
    "it = extract()\n",
    "for index, first in enumerate(it):\n",
    "    tasks.append(transform_chunk(list(chain([first], islice(it, CHUNK)))))\n",
    "\n",
    "_ = [t.result() for t in tasks]\n",
    "\n",
    "delta_time = datetime.datetime.now() - start_time\n",
    "print('Done async,' f' in {delta_time.total_seconds():.2f} sec')"
   ]
  },
  {
   "cell_type": "code",
   "execution_count": null,
   "metadata": {},
   "outputs": [],
   "source": []
  }
 ],
 "metadata": {
  "kernelspec": {
   "display_name": "Python 3",
   "language": "python",
   "name": "python3"
  },
  "language_info": {
   "codemirror_mode": {
    "name": "ipython",
    "version": 3
   },
   "file_extension": ".py",
   "mimetype": "text/x-python",
   "name": "python",
   "nbconvert_exporter": "python",
   "pygments_lexer": "ipython3",
   "version": "3.8.1"
  }
 },
 "nbformat": 4,
 "nbformat_minor": 4
}
